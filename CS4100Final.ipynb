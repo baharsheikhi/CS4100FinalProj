{
 "cells": [
  {
   "cell_type": "markdown",
   "metadata": {},
   "source": [
    "### Obtain and Clean Data"
   ]
  },
  {
   "cell_type": "code",
   "execution_count": 1,
   "metadata": {
    "collapsed": false
   },
   "outputs": [
    {
     "name": "stderr",
     "output_type": "stream",
     "text": [
      "//anaconda/lib/python2.7/site-packages/cryptography/hazmat/primitives/constant_time.py:26: CryptographyDeprecationWarning: Support for your Python version is deprecated. The next version of cryptography will remove support. Please upgrade to a 2.7.x release that supports hmac.compare_digest as soon as possible.\n",
      "  utils.PersistentlyDeprecated2018,\n",
      "WARNING:root:Requests made without an app_token will be subject to strict throttling limits.\n"
     ]
    }
   ],
   "source": [
    "import pandas as pd\n",
    "from sodapy import Socrata\n",
    "import seaborn as sns\n",
    "\n",
    "client = Socrata(\"data.cityofnewyork.us\", None)\n",
    "ATTENDANCE_ENDPOINT = \"xwxx-rnki\"\n",
    "LRN_ENV_ENDPOINT = \"9n9z-hh9p\"\n",
    "SCHOOL_RATINGS = {'U': 0, 'UD': 0, 'UPF': 1, 'D': 2, 'P': 3, 'WD': 4, 'O': 5}\n",
    "\n",
    "DEP_VARS = ['indicator_1_1', 'indicator_1_2', 'indicator_1_3','indicator_1_4','indicator_3_1', 'indicator_4_1', 'indicator_4_2', 'indicator_5_1']\n",
    "INDEP_VAR = ['attendance_rate']\n",
    "dumb = 2000000\n",
    "LIMIT = 2000000\n",
    "\n",
    "\n",
    "results_attendance = pd.DataFrame.from_records(client.get(ATTENDANCE_ENDPOINT, limit=LIMIT))[['school', 'absent', 'present', 'schoolyear']]\n",
    "results_attendance['school'] = [str(i)[2:] for i in results_attendance['school']]\n",
    "\n",
    "\n",
    "\n"
   ]
  },
  {
   "cell_type": "code",
   "execution_count": 2,
   "metadata": {
    "collapsed": false
   },
   "outputs": [],
   "source": [
    "grouped = results_attendance.groupby(['school'])\n",
    "schools = []\n",
    "for school, schooldata in grouped: \n",
    "    s = {}\n",
    "    absences = [int(i) for i in schooldata['absent']]\n",
    "    presences = [int(i) for i in schooldata['present']]\n",
    "    attendance_rates = []\n",
    "    #TODO filter only by the 20062007 school year \n",
    "    for i in range(len(absences)):\n",
    "    \n",
    "        total = absences[i] + presences[i]\n",
    "        rate = int(round((float(presences[i])/float(total)) * 100))\n",
    "    s['school'] = school\n",
    "    if not rate < 40: \n",
    "        s['attendance_rate'] = rate\n",
    "    else: \n",
    "        rate == None\n",
    "    schools.append(s)\n",
    "    \n",
    "attendance_data = pd.DataFrame(schools)\n"
   ]
  },
  {
   "cell_type": "code",
   "execution_count": 3,
   "metadata": {
    "collapsed": false
   },
   "outputs": [],
   "source": [
    "results_learning = pd.DataFrame.from_records(client.get(LRN_ENV_ENDPOINT, limit = LIMIT))\n",
    "results_learning['bn'] = [str(i) for i in results_learning['bn']]\n",
    "\n",
    "results = attendance_data.set_index('school').join(results_learning.set_index('bn'))\n",
    "results = results.dropna()"
   ]
  },
  {
   "cell_type": "code",
   "execution_count": 4,
   "metadata": {
    "collapsed": false
   },
   "outputs": [],
   "source": [
    "# filter out the ones that have a school year which is different than the schoolyear\n",
    "#results = results[results.apply(lambda row: row['school_year'][:4] == row['schoolyear'][:4] or row['school_year'][:4] == row['schoolyear'][4:], axis = 1)]\n",
    "# change all the U, UD, UPF, D, P, WD, and O values to numbers for regression\n",
    "# TODO did not do alot of the other overall ratings\n",
    "\n",
    "def get_school_ratings(rating): \n",
    "    try:\n",
    "        return SCHOOL_RATINGS[rating]\n",
    "    except KeyError: \n",
    "        return float('NaN')\n",
    "\n",
    "results['indicator_1_1'] = [get_school_ratings(i) for i in results['indicator_1_1']]\n",
    "results['indicator_1_2'] = [get_school_ratings(i) for i in results['indicator_1_2']]\n",
    "results['indicator_1_3'] = [get_school_ratings(i) for i in results['indicator_1_3']]\n",
    "results['indicator_1_4'] = [get_school_ratings(i) for i in results['indicator_1_4']]\n",
    "results['indicator_3_1'] = [get_school_ratings(i) for i in results['indicator_3_1']]\n",
    "results['indicator_4_1'] = [get_school_ratings(i) for i in results['indicator_4_1']]\n",
    "results['indicator_4_2'] = [get_school_ratings(i) for i in results['indicator_4_2']]\n",
    "results['indicator_5_1'] = [get_school_ratings(i) for i in results['indicator_5_1']]\n",
    "\n",
    "results = results.dropna()"
   ]
  },
  {
   "cell_type": "markdown",
   "metadata": {},
   "source": [
    "### Post Cleaning Analysis "
   ]
  },
  {
   "cell_type": "code",
   "execution_count": null,
   "metadata": {
    "collapsed": false
   },
   "outputs": [],
   "source": [
    "results.describe(include='all')"
   ]
  },
  {
   "cell_type": "code",
   "execution_count": null,
   "metadata": {
    "collapsed": false
   },
   "outputs": [],
   "source": [
    "results.to_csv(\"~/Desktop/test.csv\")"
   ]
  },
  {
   "cell_type": "code",
   "execution_count": null,
   "metadata": {
    "collapsed": false,
    "scrolled": false
   },
   "outputs": [],
   "source": [
    "sns.heatmap(results[DEP_VARS + INDEP_VAR].corr(),\n",
    "        xticklabels=results[DEP_VARS + INDEP_VAR].columns,\n",
    "        yticklabels=results[DEP_VARS + INDEP_VAR].columns)\n"
   ]
  },
  {
   "cell_type": "code",
   "execution_count": null,
   "metadata": {
    "collapsed": false
   },
   "outputs": [],
   "source": [
    "sns.pairplot(results[DEP_VARS + INDEP_VAR])"
   ]
  },
  {
   "cell_type": "markdown",
   "metadata": {},
   "source": [
    "### Linear Regression "
   ]
  },
  {
   "cell_type": "code",
   "execution_count": 5,
   "metadata": {
    "collapsed": false,
    "scrolled": true
   },
   "outputs": [],
   "source": [
    "from sklearn.cross_validation import train_test_split\n",
    "\n",
    "X_train, X_test, y_train, y_test = train_test_split(results[DEP_VARS], results[INDEP_VAR], test_size=0.4, random_state=101)\n"
   ]
  },
  {
   "cell_type": "code",
   "execution_count": 6,
   "metadata": {
    "collapsed": false
   },
   "outputs": [],
   "source": [
    "from sklearn.linear_model import LinearRegression\n",
    "lm = LinearRegression()\n",
    "model = lm.fit(X_train,y_train)\n"
   ]
  },
  {
   "cell_type": "markdown",
   "metadata": {},
   "source": [
    "#### The coefficients of the data"
   ]
  },
  {
   "cell_type": "code",
   "execution_count": null,
   "metadata": {
    "collapsed": false
   },
   "outputs": [],
   "source": [
    "lm.coef_"
   ]
  },
  {
   "cell_type": "code",
   "execution_count": null,
   "metadata": {
    "collapsed": false
   },
   "outputs": [],
   "source": [
    "model.score(X_test, y_test)\n",
    "predictions = lm.predict(X_test)"
   ]
  },
  {
   "cell_type": "markdown",
   "metadata": {},
   "source": [
    "#### Score of the Model"
   ]
  },
  {
   "cell_type": "code",
   "execution_count": null,
   "metadata": {
    "collapsed": false,
    "scrolled": false
   },
   "outputs": [],
   "source": [
    "%matplotlib inline\n",
    "import matplotlib.pyplot as plt \n",
    "\n",
    "print model.score(X_test, y_test)\n",
    "plt.scatter(y_test,predictions)\n",
    "plt.xlabel('Test Attendance Rate')\n",
    "plt.ylabel('Predicted Attendance Rate')\n",
    "plt.title(\"Predicted vs. Actual Attendance Rates\")\n",
    "\n"
   ]
  },
  {
   "cell_type": "code",
   "execution_count": null,
   "metadata": {
    "collapsed": false
   },
   "outputs": [],
   "source": [
    "import statsmodels.api as sm\n",
    " #'indicator_1_3','indicator_2_2','indicator_4_1', 'indicator_4_2'\n",
    "X_ = sm.add_constant(results[DEP_VARS])\n",
    "model = sm.OLS(results[INDEP_VAR], X_ ).fit()\n",
    "#predictions = model.predict(results[DEP_VARS]) \n",
    "#model.summary()"
   ]
  },
  {
   "cell_type": "markdown",
   "metadata": {},
   "source": [
    "### Qualitative trends of schools with the worst attendance rates "
   ]
  },
  {
   "cell_type": "code",
   "execution_count": 7,
   "metadata": {
    "collapsed": false
   },
   "outputs": [
    {
     "data": {
      "text/html": [
       "<div>\n",
       "<style scoped>\n",
       "    .dataframe tbody tr th:only-of-type {\n",
       "        vertical-align: middle;\n",
       "    }\n",
       "\n",
       "    .dataframe tbody tr th {\n",
       "        vertical-align: top;\n",
       "    }\n",
       "\n",
       "    .dataframe thead th {\n",
       "        text-align: right;\n",
       "    }\n",
       "</style>\n",
       "<table border=\"1\" class=\"dataframe\">\n",
       "  <thead>\n",
       "    <tr style=\"text-align: right;\">\n",
       "      <th></th>\n",
       "      <th>attendance_rate</th>\n",
       "      <th>indicator_1_1</th>\n",
       "      <th>indicator_1_2</th>\n",
       "      <th>indicator_1_3</th>\n",
       "      <th>indicator_1_4</th>\n",
       "      <th>indicator_3_1</th>\n",
       "      <th>indicator_4_1</th>\n",
       "      <th>indicator_4_2</th>\n",
       "      <th>indicator_5_1</th>\n",
       "    </tr>\n",
       "  </thead>\n",
       "  <tbody>\n",
       "    <tr>\n",
       "      <th>count</th>\n",
       "      <td>458.000000</td>\n",
       "      <td>458.000000</td>\n",
       "      <td>458.000000</td>\n",
       "      <td>458.000000</td>\n",
       "      <td>458.000000</td>\n",
       "      <td>458.000000</td>\n",
       "      <td>458.000000</td>\n",
       "      <td>458.000000</td>\n",
       "      <td>458.000000</td>\n",
       "    </tr>\n",
       "    <tr>\n",
       "      <th>mean</th>\n",
       "      <td>50.679039</td>\n",
       "      <td>3.050218</td>\n",
       "      <td>2.851528</td>\n",
       "      <td>3.161572</td>\n",
       "      <td>2.938865</td>\n",
       "      <td>3.194323</td>\n",
       "      <td>3.008734</td>\n",
       "      <td>3.082969</td>\n",
       "      <td>2.670306</td>\n",
       "    </tr>\n",
       "    <tr>\n",
       "      <th>std</th>\n",
       "      <td>4.561714</td>\n",
       "      <td>1.118616</td>\n",
       "      <td>1.212538</td>\n",
       "      <td>0.956429</td>\n",
       "      <td>1.189200</td>\n",
       "      <td>0.859628</td>\n",
       "      <td>1.068717</td>\n",
       "      <td>1.044782</td>\n",
       "      <td>1.213722</td>\n",
       "    </tr>\n",
       "    <tr>\n",
       "      <th>min</th>\n",
       "      <td>40.000000</td>\n",
       "      <td>0.000000</td>\n",
       "      <td>0.000000</td>\n",
       "      <td>0.000000</td>\n",
       "      <td>0.000000</td>\n",
       "      <td>0.000000</td>\n",
       "      <td>0.000000</td>\n",
       "      <td>0.000000</td>\n",
       "      <td>0.000000</td>\n",
       "    </tr>\n",
       "    <tr>\n",
       "      <th>25%</th>\n",
       "      <td>48.000000</td>\n",
       "      <td>3.000000</td>\n",
       "      <td>2.000000</td>\n",
       "      <td>3.000000</td>\n",
       "      <td>3.000000</td>\n",
       "      <td>3.000000</td>\n",
       "      <td>3.000000</td>\n",
       "      <td>3.000000</td>\n",
       "      <td>2.000000</td>\n",
       "    </tr>\n",
       "    <tr>\n",
       "      <th>50%</th>\n",
       "      <td>51.000000</td>\n",
       "      <td>3.000000</td>\n",
       "      <td>3.000000</td>\n",
       "      <td>3.000000</td>\n",
       "      <td>3.000000</td>\n",
       "      <td>3.000000</td>\n",
       "      <td>3.000000</td>\n",
       "      <td>3.000000</td>\n",
       "      <td>3.000000</td>\n",
       "    </tr>\n",
       "    <tr>\n",
       "      <th>75%</th>\n",
       "      <td>54.000000</td>\n",
       "      <td>4.000000</td>\n",
       "      <td>4.000000</td>\n",
       "      <td>4.000000</td>\n",
       "      <td>4.000000</td>\n",
       "      <td>4.000000</td>\n",
       "      <td>4.000000</td>\n",
       "      <td>4.000000</td>\n",
       "      <td>3.000000</td>\n",
       "    </tr>\n",
       "    <tr>\n",
       "      <th>max</th>\n",
       "      <td>58.000000</td>\n",
       "      <td>5.000000</td>\n",
       "      <td>5.000000</td>\n",
       "      <td>5.000000</td>\n",
       "      <td>5.000000</td>\n",
       "      <td>4.000000</td>\n",
       "      <td>5.000000</td>\n",
       "      <td>5.000000</td>\n",
       "      <td>5.000000</td>\n",
       "    </tr>\n",
       "  </tbody>\n",
       "</table>\n",
       "</div>"
      ],
      "text/plain": [
       "       attendance_rate  indicator_1_1  indicator_1_2  indicator_1_3  \\\n",
       "count       458.000000     458.000000     458.000000     458.000000   \n",
       "mean         50.679039       3.050218       2.851528       3.161572   \n",
       "std           4.561714       1.118616       1.212538       0.956429   \n",
       "min          40.000000       0.000000       0.000000       0.000000   \n",
       "25%          48.000000       3.000000       2.000000       3.000000   \n",
       "50%          51.000000       3.000000       3.000000       3.000000   \n",
       "75%          54.000000       4.000000       4.000000       4.000000   \n",
       "max          58.000000       5.000000       5.000000       5.000000   \n",
       "\n",
       "       indicator_1_4  indicator_3_1  indicator_4_1  indicator_4_2  \\\n",
       "count     458.000000     458.000000     458.000000     458.000000   \n",
       "mean        2.938865       3.194323       3.008734       3.082969   \n",
       "std         1.189200       0.859628       1.068717       1.044782   \n",
       "min         0.000000       0.000000       0.000000       0.000000   \n",
       "25%         3.000000       3.000000       3.000000       3.000000   \n",
       "50%         3.000000       3.000000       3.000000       3.000000   \n",
       "75%         4.000000       4.000000       4.000000       4.000000   \n",
       "max         5.000000       4.000000       5.000000       5.000000   \n",
       "\n",
       "       indicator_5_1  \n",
       "count     458.000000  \n",
       "mean        2.670306  \n",
       "std         1.213722  \n",
       "min         0.000000  \n",
       "25%         2.000000  \n",
       "50%         3.000000  \n",
       "75%         3.000000  \n",
       "max         5.000000  "
      ]
     },
     "execution_count": 7,
     "metadata": {},
     "output_type": "execute_result"
    }
   ],
   "source": [
    "import math\n",
    "bottom = results.sort_values(by=['attendance_rate']).head(math.ceil(results.shape[0] * 0.10))\n",
    "bottom.describe()"
   ]
  },
  {
   "cell_type": "markdown",
   "metadata": {},
   "source": [
    "This is the school with the bottom 25% of attendance rates. They have a mean of around 60% attendance rate. The standard deviation is 8.23, meaning that the maximum if 68.23 and the minimum is 52.77. The values are the following: \n",
    "- 3.05 for quality of cirriculum with a std of 1.12 \n",
    "- 2.89 for quality of teaching with a std of 1.21\n",
    "- 3.16 for leveraging resources with a std of 0.97 \n",
    "- 2.94 for positive learning experience with a std of 1.19\n",
    "- 3.19 Quality of goals and action plans with a std of 0.86 \n",
    "- 3.00 Quality of teacher support and supervision with a std of 1.07\n",
    "- 3.08 Quality of teacher teams and leadership development with a std of 1.04\n",
    "- 2.67 Quality of monitoring and revising systems with a std of 1.21"
   ]
  },
  {
   "cell_type": "code",
   "execution_count": 23,
   "metadata": {
    "collapsed": false
   },
   "outputs": [
    {
     "name": "stdout",
     "output_type": "stream",
     "text": [
      "R squared value -0.0115690403164\n",
      "[[ 0.44440401 -0.53806648  0.1403527  -0.29602018  0.50206838 -0.38041884\n",
      "   0.49880792 -0.2500815 ]]\n"
     ]
    },
    {
     "data": {
      "text/plain": [
       "Text(0.5,1,'Predicted vs. Actual Attendance Rates in Bottom 25% of Schools')"
      ]
     },
     "execution_count": 23,
     "metadata": {},
     "output_type": "execute_result"
    },
    {
     "data": {
      "image/png": "[encoded data removed]",
      "text/plain": [
       "<Figure size 600x400 with 1 Axes>"
      ]
     },
     "metadata": {},
     "output_type": "display_data"
    }
   ],
   "source": [
    "lm = LinearRegression(fit_intercept=True)\n",
    "X_train_b, X_test_b, y_train_b, y_test_b = train_test_split(bottom[DEP_VARS], bottom[INDEP_VAR], test_size=0.4, random_state=101)\n",
    "model = lm.fit(X_train_b,y_train_b)\n",
    "print \"R squared value\", model.score(X_test_b, y_test_b)\n",
    "predictions = lm.predict(X_test_b)\n",
    "print lm.coef_\n",
    "\n",
    "%matplotlib inline\n",
    "import matplotlib.pyplot as plt \n",
    "\n",
    "plt.scatter(y_test_b,predictions)\n",
    "plt.xlabel('Test Attendance Rate')\n",
    "plt.ylabel('Predicted Attendance Rate')\n",
    "plt.title(\"Predicted vs. Actual Attendance Rates in Bottom 25% of Schools\")"
   ]
  },
  {
   "cell_type": "code",
   "execution_count": 20,
   "metadata": {
    "collapsed": false
   },
   "outputs": [
    {
     "data": {
      "text/html": [
       "<table class=\"simpletable\">\n",
       "<caption>OLS Regression Results</caption>\n",
       "<tr>\n",
       "  <th>Dep. Variable:</th>     <td>attendance_rate</td> <th>  R-squared:         </th> <td>   0.020</td>\n",
       "</tr>\n",
       "<tr>\n",
       "  <th>Model:</th>                   <td>OLS</td>       <th>  Adj. R-squared:    </th> <td>   0.002</td>\n",
       "</tr>\n",
       "<tr>\n",
       "  <th>Method:</th>             <td>Least Squares</td>  <th>  F-statistic:       </th> <td>   1.136</td>\n",
       "</tr>\n",
       "<tr>\n",
       "  <th>Date:</th>             <td>Fri, 26 Apr 2019</td> <th>  Prob (F-statistic):</th>  <td> 0.337</td> \n",
       "</tr>\n",
       "<tr>\n",
       "  <th>Time:</th>                 <td>19:33:18</td>     <th>  Log-Likelihood:    </th> <td> -1339.9</td>\n",
       "</tr>\n",
       "<tr>\n",
       "  <th>No. Observations:</th>      <td>   458</td>      <th>  AIC:               </th> <td>   2698.</td>\n",
       "</tr>\n",
       "<tr>\n",
       "  <th>Df Residuals:</th>          <td>   449</td>      <th>  BIC:               </th> <td>   2735.</td>\n",
       "</tr>\n",
       "<tr>\n",
       "  <th>Df Model:</th>              <td>     8</td>      <th>                     </th>     <td> </td>   \n",
       "</tr>\n",
       "<tr>\n",
       "  <th>Covariance Type:</th>      <td>nonrobust</td>    <th>                     </th>     <td> </td>   \n",
       "</tr>\n",
       "</table>\n",
       "<table class=\"simpletable\">\n",
       "<tr>\n",
       "        <td></td>           <th>coef</th>     <th>std err</th>      <th>t</th>      <th>P>|t|</th>  <th>[0.025</th>    <th>0.975]</th>  \n",
       "</tr>\n",
       "<tr>\n",
       "  <th>const</th>         <td>   50.5859</td> <td>    0.903</td> <td>   56.015</td> <td> 0.000</td> <td>   48.811</td> <td>   52.361</td>\n",
       "</tr>\n",
       "<tr>\n",
       "  <th>indicator_1_1</th> <td>    0.2920</td> <td>    0.314</td> <td>    0.931</td> <td> 0.352</td> <td>   -0.324</td> <td>    0.908</td>\n",
       "</tr>\n",
       "<tr>\n",
       "  <th>indicator_1_2</th> <td>   -0.4054</td> <td>    0.260</td> <td>   -1.559</td> <td> 0.120</td> <td>   -0.917</td> <td>    0.106</td>\n",
       "</tr>\n",
       "<tr>\n",
       "  <th>indicator_1_3</th> <td>    0.0934</td> <td>    0.341</td> <td>    0.274</td> <td> 0.784</td> <td>   -0.578</td> <td>    0.764</td>\n",
       "</tr>\n",
       "<tr>\n",
       "  <th>indicator_1_4</th> <td>   -0.1827</td> <td>    0.228</td> <td>   -0.800</td> <td> 0.424</td> <td>   -0.631</td> <td>    0.266</td>\n",
       "</tr>\n",
       "<tr>\n",
       "  <th>indicator_3_1</th> <td>    0.1448</td> <td>    0.392</td> <td>    0.369</td> <td> 0.712</td> <td>   -0.626</td> <td>    0.915</td>\n",
       "</tr>\n",
       "<tr>\n",
       "  <th>indicator_4_1</th> <td>   -0.3024</td> <td>    0.286</td> <td>   -1.058</td> <td> 0.290</td> <td>   -0.864</td> <td>    0.259</td>\n",
       "</tr>\n",
       "<tr>\n",
       "  <th>indicator_4_2</th> <td>    0.6157</td> <td>    0.295</td> <td>    2.084</td> <td> 0.038</td> <td>    0.035</td> <td>    1.196</td>\n",
       "</tr>\n",
       "<tr>\n",
       "  <th>indicator_5_1</th> <td>   -0.3186</td> <td>    0.265</td> <td>   -1.203</td> <td> 0.230</td> <td>   -0.839</td> <td>    0.202</td>\n",
       "</tr>\n",
       "</table>\n",
       "<table class=\"simpletable\">\n",
       "<tr>\n",
       "  <th>Omnibus:</th>       <td>18.239</td> <th>  Durbin-Watson:     </th> <td>   0.041</td>\n",
       "</tr>\n",
       "<tr>\n",
       "  <th>Prob(Omnibus):</th> <td> 0.000</td> <th>  Jarque-Bera (JB):  </th> <td>  15.991</td>\n",
       "</tr>\n",
       "<tr>\n",
       "  <th>Skew:</th>          <td>-0.389</td> <th>  Prob(JB):          </th> <td>0.000337</td>\n",
       "</tr>\n",
       "<tr>\n",
       "  <th>Kurtosis:</th>      <td> 2.518</td> <th>  Cond. No.          </th> <td>    38.6</td>\n",
       "</tr>\n",
       "</table><br/><br/>Warnings:<br/>[1] Standard Errors assume that the covariance matrix of the errors is correctly specified."
      ],
      "text/plain": [
       "<class 'statsmodels.iolib.summary.Summary'>\n",
       "\"\"\"\n",
       "                            OLS Regression Results                            \n",
       "==============================================================================\n",
       "Dep. Variable:        attendance_rate   R-squared:                       0.020\n",
       "Model:                            OLS   Adj. R-squared:                  0.002\n",
       "Method:                 Least Squares   F-statistic:                     1.136\n",
       "Date:                Fri, 26 Apr 2019   Prob (F-statistic):              0.337\n",
       "Time:                        19:33:18   Log-Likelihood:                -1339.9\n",
       "No. Observations:                 458   AIC:                             2698.\n",
       "Df Residuals:                     449   BIC:                             2735.\n",
       "Df Model:                           8                                         \n",
       "Covariance Type:            nonrobust                                         \n",
       "=================================================================================\n",
       "                    coef    std err          t      P>|t|      [0.025      0.975]\n",
       "---------------------------------------------------------------------------------\n",
       "const            50.5859      0.903     56.015      0.000      48.811      52.361\n",
       "indicator_1_1     0.2920      0.314      0.931      0.352      -0.324       0.908\n",
       "indicator_1_2    -0.4054      0.260     -1.559      0.120      -0.917       0.106\n",
       "indicator_1_3     0.0934      0.341      0.274      0.784      -0.578       0.764\n",
       "indicator_1_4    -0.1827      0.228     -0.800      0.424      -0.631       0.266\n",
       "indicator_3_1     0.1448      0.392      0.369      0.712      -0.626       0.915\n",
       "indicator_4_1    -0.3024      0.286     -1.058      0.290      -0.864       0.259\n",
       "indicator_4_2     0.6157      0.295      2.084      0.038       0.035       1.196\n",
       "indicator_5_1    -0.3186      0.265     -1.203      0.230      -0.839       0.202\n",
       "==============================================================================\n",
       "Omnibus:                       18.239   Durbin-Watson:                   0.041\n",
       "Prob(Omnibus):                  0.000   Jarque-Bera (JB):               15.991\n",
       "Skew:                          -0.389   Prob(JB):                     0.000337\n",
       "Kurtosis:                       2.518   Cond. No.                         38.6\n",
       "==============================================================================\n",
       "\n",
       "Warnings:\n",
       "[1] Standard Errors assume that the covariance matrix of the errors is correctly specified.\n",
       "\"\"\""
      ]
     },
     "execution_count": 20,
     "metadata": {},
     "output_type": "execute_result"
    }
   ],
   "source": [
    "import statsmodels.api as sm\n",
    " #'indicator_1_3','indicator_2_2','indicator_4_1', 'indicator_4_2'\n",
    "X_ = sm.add_constant(bottom[DEP_VARS])\n",
    "model = sm.OLS(bottom[INDEP_VAR], X_ ).fit()\n",
    "#predictions = model.predict(results[DEP_VARS]) \n",
    "model.summary()"
   ]
  },
  {
   "cell_type": "code",
   "execution_count": 9,
   "metadata": {
    "collapsed": false,
    "scrolled": true
   },
   "outputs": [
    {
     "data": {
      "text/html": [
       "<div>\n",
       "<style scoped>\n",
       "    .dataframe tbody tr th:only-of-type {\n",
       "        vertical-align: middle;\n",
       "    }\n",
       "\n",
       "    .dataframe tbody tr th {\n",
       "        vertical-align: top;\n",
       "    }\n",
       "\n",
       "    .dataframe thead th {\n",
       "        text-align: right;\n",
       "    }\n",
       "</style>\n",
       "<table border=\"1\" class=\"dataframe\">\n",
       "  <thead>\n",
       "    <tr style=\"text-align: right;\">\n",
       "      <th></th>\n",
       "      <th>attendance_rate</th>\n",
       "      <th>indicator_1_1</th>\n",
       "      <th>indicator_1_2</th>\n",
       "      <th>indicator_1_3</th>\n",
       "      <th>indicator_1_4</th>\n",
       "      <th>indicator_3_1</th>\n",
       "      <th>indicator_4_1</th>\n",
       "      <th>indicator_4_2</th>\n",
       "      <th>indicator_5_1</th>\n",
       "    </tr>\n",
       "  </thead>\n",
       "  <tbody>\n",
       "    <tr>\n",
       "      <th>count</th>\n",
       "      <td>1143.000000</td>\n",
       "      <td>1143.000000</td>\n",
       "      <td>1143.000000</td>\n",
       "      <td>1143.000000</td>\n",
       "      <td>1143.000000</td>\n",
       "      <td>1143.000000</td>\n",
       "      <td>1143.000000</td>\n",
       "      <td>1143.000000</td>\n",
       "      <td>1143.000000</td>\n",
       "    </tr>\n",
       "    <tr>\n",
       "      <th>mean</th>\n",
       "      <td>95.690289</td>\n",
       "      <td>3.485564</td>\n",
       "      <td>3.325459</td>\n",
       "      <td>3.459318</td>\n",
       "      <td>3.337708</td>\n",
       "      <td>3.527559</td>\n",
       "      <td>3.516185</td>\n",
       "      <td>3.509186</td>\n",
       "      <td>3.061242</td>\n",
       "    </tr>\n",
       "    <tr>\n",
       "      <th>std</th>\n",
       "      <td>2.618532</td>\n",
       "      <td>0.886517</td>\n",
       "      <td>0.978279</td>\n",
       "      <td>0.906224</td>\n",
       "      <td>1.002468</td>\n",
       "      <td>0.721743</td>\n",
       "      <td>0.818701</td>\n",
       "      <td>0.829435</td>\n",
       "      <td>1.077437</td>\n",
       "    </tr>\n",
       "    <tr>\n",
       "      <th>min</th>\n",
       "      <td>92.000000</td>\n",
       "      <td>0.000000</td>\n",
       "      <td>0.000000</td>\n",
       "      <td>0.000000</td>\n",
       "      <td>0.000000</td>\n",
       "      <td>0.000000</td>\n",
       "      <td>0.000000</td>\n",
       "      <td>0.000000</td>\n",
       "      <td>0.000000</td>\n",
       "    </tr>\n",
       "    <tr>\n",
       "      <th>25%</th>\n",
       "      <td>93.000000</td>\n",
       "      <td>3.000000</td>\n",
       "      <td>3.000000</td>\n",
       "      <td>3.000000</td>\n",
       "      <td>3.000000</td>\n",
       "      <td>3.000000</td>\n",
       "      <td>3.000000</td>\n",
       "      <td>3.000000</td>\n",
       "      <td>3.000000</td>\n",
       "    </tr>\n",
       "    <tr>\n",
       "      <th>50%</th>\n",
       "      <td>95.000000</td>\n",
       "      <td>4.000000</td>\n",
       "      <td>3.000000</td>\n",
       "      <td>4.000000</td>\n",
       "      <td>4.000000</td>\n",
       "      <td>4.000000</td>\n",
       "      <td>4.000000</td>\n",
       "      <td>4.000000</td>\n",
       "      <td>3.000000</td>\n",
       "    </tr>\n",
       "    <tr>\n",
       "      <th>75%</th>\n",
       "      <td>98.000000</td>\n",
       "      <td>4.000000</td>\n",
       "      <td>4.000000</td>\n",
       "      <td>4.000000</td>\n",
       "      <td>4.000000</td>\n",
       "      <td>4.000000</td>\n",
       "      <td>4.000000</td>\n",
       "      <td>4.000000</td>\n",
       "      <td>4.000000</td>\n",
       "    </tr>\n",
       "    <tr>\n",
       "      <th>max</th>\n",
       "      <td>100.000000</td>\n",
       "      <td>5.000000</td>\n",
       "      <td>5.000000</td>\n",
       "      <td>5.000000</td>\n",
       "      <td>5.000000</td>\n",
       "      <td>5.000000</td>\n",
       "      <td>5.000000</td>\n",
       "      <td>5.000000</td>\n",
       "      <td>5.000000</td>\n",
       "    </tr>\n",
       "  </tbody>\n",
       "</table>\n",
       "</div>"
      ],
      "text/plain": [
       "       attendance_rate  indicator_1_1  indicator_1_2  indicator_1_3  \\\n",
       "count      1143.000000    1143.000000    1143.000000    1143.000000   \n",
       "mean         95.690289       3.485564       3.325459       3.459318   \n",
       "std           2.618532       0.886517       0.978279       0.906224   \n",
       "min          92.000000       0.000000       0.000000       0.000000   \n",
       "25%          93.000000       3.000000       3.000000       3.000000   \n",
       "50%          95.000000       4.000000       3.000000       4.000000   \n",
       "75%          98.000000       4.000000       4.000000       4.000000   \n",
       "max         100.000000       5.000000       5.000000       5.000000   \n",
       "\n",
       "       indicator_1_4  indicator_3_1  indicator_4_1  indicator_4_2  \\\n",
       "count    1143.000000    1143.000000    1143.000000    1143.000000   \n",
       "mean        3.337708       3.527559       3.516185       3.509186   \n",
       "std         1.002468       0.721743       0.818701       0.829435   \n",
       "min         0.000000       0.000000       0.000000       0.000000   \n",
       "25%         3.000000       3.000000       3.000000       3.000000   \n",
       "50%         4.000000       4.000000       4.000000       4.000000   \n",
       "75%         4.000000       4.000000       4.000000       4.000000   \n",
       "max         5.000000       5.000000       5.000000       5.000000   \n",
       "\n",
       "       indicator_5_1  \n",
       "count    1143.000000  \n",
       "mean        3.061242  \n",
       "std         1.077437  \n",
       "min         0.000000  \n",
       "25%         3.000000  \n",
       "50%         3.000000  \n",
       "75%         4.000000  \n",
       "max         5.000000  "
      ]
     },
     "execution_count": 9,
     "metadata": {},
     "output_type": "execute_result"
    }
   ],
   "source": [
    "top = results.sort_values(by=['attendance_rate'], ascending=False).head(math.ceil(results.shape[0] * 0.25))\n",
    "top.describe()"
   ]
  },
  {
   "cell_type": "markdown",
   "metadata": {},
   "source": [
    "These schools are the top 25% of attendance rates. The average attendance rate is 96%. The mean standard deviation is 2.61. The values of each indicator are the following: \n",
    "- 3.49 for quality of cirriculum with a std of 0.89\n",
    "- 3.33 for quality of teaching with a std of 0.99\n",
    "- 3.46 for leveraging resources with a std of 0.90\n",
    "- 3.34 for positive learning experience with a std of 1.00\n",
    "- 3.53 Quality of goals and action plans with a std of 0.93\n",
    "- 3.52 Quality of teacher support and supervision with a std of 0.72\n",
    "- 3.51 Quality of teacher teams and leadership development with a std of 0.83 \n",
    "- 3.06 Quality of monitoring and revising systems with a std of 1.08 "
   ]
  },
  {
   "cell_type": "code",
   "execution_count": 19,
   "metadata": {
    "collapsed": false
   },
   "outputs": [
    {
     "name": "stdout",
     "output_type": "stream",
     "text": [
      "R squared value 0.0248250650173\n",
      "[[-0.05751533  0.15437531 -0.20232121 -0.30134296  0.26257106 -0.59646265\n",
      "  -0.15062823  0.20129329]]\n"
     ]
    },
    {
     "data": {
      "text/plain": [
       "Text(0.5,1,'Predicted vs. Actual Attendance Rates in Top 25 % of Schools')"
      ]
     },
     "execution_count": 19,
     "metadata": {},
     "output_type": "execute_result"
    },
    {
     "data": {
      "image/png": "[encoded data removed]",
      "text/plain": [
       "<Figure size 600x400 with 1 Axes>"
      ]
     },
     "metadata": {},
     "output_type": "display_data"
    }
   ],
   "source": [
    "lm = LinearRegression()\n",
    "X_train_t, X_test_t, y_train_t, y_test_t = train_test_split(top[DEP_VARS], top[INDEP_VAR], test_size=0.4, random_state=101)\n",
    "model = lm.fit(X_train_t,y_train_t)\n",
    "print \"R squared value\", model.score(X_test_t, y_test_t)\n",
    "predictions = lm.predict(X_test_t)\n",
    "print lm.coef_\n",
    "\n",
    "%matplotlib inline\n",
    "import matplotlib.pyplot as plt \n",
    "\n",
    "plt.scatter(y_test_t,predictions)\n",
    "plt.xlabel('Test Attendance Rate')\n",
    "plt.ylabel('Predicted Attendance Rate')\n",
    "plt.title(\"Predicted vs. Actual Attendance Rates in Top 25 % of Schools\")"
   ]
  },
  {
   "cell_type": "code",
   "execution_count": null,
   "metadata": {
    "collapsed": false
   },
   "outputs": [],
   "source": [
    "import statsmodels.api as sm\n",
    " #'indicator_1_3','indicator_2_2','indicator_4_1', 'indicator_4_2'\n",
    "X_ = sm.add_constant(top[DEP_VARS])\n",
    "model = sm.OLS(top[INDEP_VAR], X_ ).fit()\n",
    "#predictions = model.predict(results[DEP_VARS]) \n",
    "#model.summary()"
   ]
  },
  {
   "cell_type": "markdown",
   "metadata": {},
   "source": [
    "### Comparing and Contrasting"
   ]
  },
  {
   "cell_type": "markdown",
   "metadata": {},
   "source": [
    "The difference in each of the qualities is the following: \n",
    "- Qualty of cirriculum: 0.35 for mean, 0.17 for std\n",
    "- Quality of teaching: 0.30 for mean, 0.16 for std \n",
    "- Leveraging resources: 0.29 for mean, 0.25 for std \n",
    "- *Positive learning experience: 0.50 for mean, .10 for std* \n",
    "- Quality of goals and action plans: 0.31 for mean, 0.9 for std\n",
    "- Quality of teacher support and supervision: 0.43 for mean, 0.3 for std \n",
    "- Quality of teacher teams and leadership development: 0.35 for mean, 0.14 for std\n",
    "- Quality of monitoring and revising systems: 0.33 for mean, 0.08 for std "
   ]
  },
  {
   "cell_type": "markdown",
   "metadata": {
    "collapsed": true
   },
   "source": [
    "### Decision Tree Classifier"
   ]
  },
  {
   "cell_type": "code",
   "execution_count": 16,
   "metadata": {
    "collapsed": false
   },
   "outputs": [
    {
     "data": {
      "text/plain": [
       "0.16157205240174671"
      ]
     },
     "execution_count": 16,
     "metadata": {},
     "output_type": "execute_result"
    }
   ],
   "source": [
    "from sklearn import tree\n",
    "decision_model = tree.DecisionTreeClassifier()\n",
    "\n",
    "decision_model.fit(X_train_t, y_train_t)\n",
    "y_predict = decision_model.predict(X_test_t)\n",
    "\n",
    "\n",
    "from sklearn.metrics import accuracy_score\n",
    "\n",
    "accuracy_score(y_test_t, y_predict)"
   ]
  },
  {
   "cell_type": "code",
   "execution_count": 17,
   "metadata": {
    "collapsed": false
   },
   "outputs": [
    {
     "data": {
      "text/plain": [
       "0"
      ]
     },
     "execution_count": 17,
     "metadata": {},
     "output_type": "execute_result"
    }
   ],
   "source": [
    "tree.export_graphviz(decision_model.tree_, out_file='tree_t.dot', feature_names=DEP_VARS)\n",
    "\n",
    "from subprocess import call\n",
    "\n",
    "call(['dot', '-T', 'png', 'tree_t.dot', '-o', 'tree_t.png'])"
   ]
  },
  {
   "cell_type": "markdown",
   "metadata": {},
   "source": [
    "### Random Forest Classifier"
   ]
  },
  {
   "cell_type": "code",
   "execution_count": null,
   "metadata": {
    "collapsed": false
   },
   "outputs": [],
   "source": [
    "from sklearn.ensemble import RandomForestClassifier\n",
    "\n",
    "clf=RandomForestClassifier(n_estimators=results.shape[0])\n",
    "clf.fit(X_train,y_train)\n",
    "y_pred=clf.predict(X_test)"
   ]
  },
  {
   "cell_type": "code",
   "execution_count": null,
   "metadata": {
    "collapsed": false
   },
   "outputs": [],
   "source": [
    "from sklearn import metrics\n",
    "# Model Accuracy, how often is the classifier correct?\n",
    "print(\"Accuracy:\",metrics.accuracy_score(y_test, y_pred))"
   ]
  },
  {
   "cell_type": "code",
   "execution_count": null,
   "metadata": {
    "collapsed": false
   },
   "outputs": [],
   "source": [
    "feature_imp = pd.Series(clf.feature_importances_,index=DEP_VARS).sort_values(ascending=False)\n",
    "feature_imp"
   ]
  },
  {
   "cell_type": "code",
   "execution_count": null,
   "metadata": {
    "collapsed": false
   },
   "outputs": [],
   "source": [
    "import matplotlib.pyplot as plt\n",
    "import seaborn as sns\n",
    "%matplotlib inline\n",
    "DEP_VARS_MAPPED = [\"Cirriculum\", \"Pedagogy\", \"Leveraging Resources\", \"Pos. Learning Envt.\", \"Goals & Action Plans\", \"Teacher Support & \\nSupervision\", \"Teacher Teams & \\nLeadership Development\", \"Monitoring Revising Systems\"]\n",
    "# Creating a bar plot\n",
    "sns.barplot(x=feature_imp, y=DEP_VARS_MAPPED)\n",
    "# Add labels to your graph\n",
    "plt.xlabel('Feature Importance Score')\n",
    "plt.ylabel('Features')\n",
    "plt.title(\"Visualizing Important Features\")\n",
    "plt.show()"
   ]
  },
  {
   "cell_type": "code",
   "execution_count": null,
   "metadata": {
    "collapsed": true
   },
   "outputs": [],
   "source": []
  }
 ],
 "metadata": {
  "kernelspec": {
   "display_name": "Python 2",
   "language": "python",
   "name": "python2"
  },
  "language_info": {
   "codemirror_mode": {
    "name": "ipython",
    "version": 2
   },
   "file_extension": ".py",
   "mimetype": "text/x-python",
   "name": "python",
   "nbconvert_exporter": "python",
   "pygments_lexer": "ipython2",
   "version": "2.7.6"
  }
 },
 "nbformat": 4,
 "nbformat_minor": 0
}
